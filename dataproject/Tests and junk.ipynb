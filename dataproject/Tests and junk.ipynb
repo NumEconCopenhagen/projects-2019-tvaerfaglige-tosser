{
 "cells": [
  {
   "cell_type": "code",
   "execution_count": 4,
   "metadata": {},
   "outputs": [],
   "source": [
    "z=pd.DataFrame()\n",
    "z[:10]=\"NaN\""
   ]
  },
  {
   "cell_type": "code",
   "execution_count": 5,
   "metadata": {},
   "outputs": [
    {
     "data": {
      "text/html": [
       "<div>\n",
       "<style scoped>\n",
       "    .dataframe tbody tr th:only-of-type {\n",
       "        vertical-align: middle;\n",
       "    }\n",
       "\n",
       "    .dataframe tbody tr th {\n",
       "        vertical-align: top;\n",
       "    }\n",
       "\n",
       "    .dataframe thead th {\n",
       "        text-align: right;\n",
       "    }\n",
       "</style>\n",
       "<table border=\"1\" class=\"dataframe\">\n",
       "  <thead>\n",
       "    <tr style=\"text-align: right;\">\n",
       "      <th></th>\n",
       "    </tr>\n",
       "  </thead>\n",
       "  <tbody>\n",
       "  </tbody>\n",
       "</table>\n",
       "</div>"
      ],
      "text/plain": [
       "Empty DataFrame\n",
       "Columns: []\n",
       "Index: []"
      ]
     },
     "execution_count": 5,
     "metadata": {},
     "output_type": "execute_result"
    }
   ],
   "source": [
    "z"
   ]
  },
  {
   "cell_type": "code",
   "execution_count": 6,
   "metadata": {},
   "outputs": [],
   "source": [
    "y=pd.DataFrame()\n"
   ]
  },
  {
   "cell_type": "code",
   "execution_count": 7,
   "metadata": {},
   "outputs": [],
   "source": [
    "y['hej']=[0,1,2,3,4]\n",
    "z['hej']=[0,1,2]"
   ]
  },
  {
   "cell_type": "code",
   "execution_count": 20,
   "metadata": {},
   "outputs": [
    {
     "name": "stdout",
     "output_type": "stream",
     "text": [
      "<class 'float'>\n"
     ]
    }
   ],
   "source": [
    "h=len(y['hej'])-len(z['hej'])\n",
    "#g = pd.DataFrame(index=range(h),columns=range(1), columnslist=0)\n",
    "g = pd.DataFrame(index=range(5),columns=range(1))\n",
    "g.append(z)\n",
    "g[0][0]=1\n",
    "g[0][0]=float('NaN')\n",
    "print(type(g[0][0]))\n"
   ]
  },
  {
   "cell_type": "code",
   "execution_count": 61,
   "metadata": {},
   "outputs": [],
   "source": [
    "x=pd.DataFrame(index=range(1),columns=range(len(y['hej'])))"
   ]
  },
  {
   "cell_type": "code",
   "execution_count": 62,
   "metadata": {},
   "outputs": [
    {
     "data": {
      "text/plain": [
       "array([[nan],\n",
       "       [nan],\n",
       "       [nan]])"
      ]
     },
     "execution_count": 62,
     "metadata": {},
     "output_type": "execute_result"
    }
   ],
   "source": [
    "c= np.empty((3,1,))\n",
    "c[:]=\"NAN\"\n",
    "c"
   ]
  },
  {
   "cell_type": "code",
   "execution_count": 2,
   "metadata": {},
   "outputs": [
    {
     "ename": "SyntaxError",
     "evalue": "unexpected EOF while parsing (<ipython-input-2-16d91230379d>, line 30)",
     "output_type": "error",
     "traceback": [
      "\u001b[1;36m  File \u001b[1;32m\"<ipython-input-2-16d91230379d>\"\u001b[1;36m, line \u001b[1;32m30\u001b[0m\n\u001b[1;33m    if len(x)<len(df_r['timestamp']):\u001b[0m\n\u001b[1;37m                                     ^\u001b[0m\n\u001b[1;31mSyntaxError\u001b[0m\u001b[1;31m:\u001b[0m unexpected EOF while parsing\n"
     ]
    }
   ],
   "source": [
    "df_p=stocks_df.copy() #Makes a copy of main dataframe\n",
    "df_p = df_p[::-1] # Reverses order of dataframe\n",
    "df_p['return']=df_p['adjusted_close'].pct_change() #calculate daily return\n",
    "df_r = pd.DataFrame() #Creates new dataframe with the returns\n",
    "x=df_p.loc[df_p['ticker']=='AAPL','timestamp']  #Getting timestamp\n",
    "df_r['timestamp']=x\n",
    "for company in tickers:\n",
    "    x=df_p.loc[df_p['ticker']==company,'return'].values #Getting all return values for the company\n",
    "    if len(x)==len(df_r['timestamp']): #Checking whether the company has been listed during the whole period\n",
    "        df_r[company]=x\n",
    "        df_r.set_index('timestamp', drop=True, append=False, inplace=False, verify_integrity=False)\n",
    "    else:\n",
    "\n",
    "#        y=len(df_r['timestamp'])-len(x) #Finds the number of days of missing values\n",
    "#         z = pd.DataFrame(index=range(y),columns=range(1)) #Creating a dataframe with Nan values for all the days the stock was not listed\n",
    "#         z=z.values\n",
    "#         x=df_p.loc[df_p['ticker']==company,'return'].values\n",
    "#         z=z.append(x) #Appends all the returns to the new dataframe for the days that the stock was traded\n",
    "#        print(len(z))\n",
    "#        print(len(df_r['timestamp']))\n",
    "#        print(y)\n",
    "#        print(type(z))\n",
    "#        df_r[company]=z\n",
    "#         df_r.append(z, ignore_index = True)\n",
    "#         l=pd.DataFrame(x)\n",
    "         print(type(x))\n",
    "df_r.set_index('timestamp', drop=True, append=False, inplace=False, verify_integrity=False)\n",
    "for company in ticker:\n",
    "    x=df_p.loc[df_p['ticker']==company,'return']\n",
    "    if len(x)<len(df_r['timestamp']):"
   ]
  },
  {
   "cell_type": "code",
   "execution_count": null,
   "metadata": {},
   "outputs": [],
   "source": []
  }
 ],
 "metadata": {
  "kernelspec": {
   "display_name": "Python 3",
   "language": "python",
   "name": "python3"
  },
  "language_info": {
   "codemirror_mode": {
    "name": "ipython",
    "version": 3
   },
   "file_extension": ".py",
   "mimetype": "text/x-python",
   "name": "python",
   "nbconvert_exporter": "python",
   "pygments_lexer": "ipython3",
   "version": "3.7.1"
  }
 },
 "nbformat": 4,
 "nbformat_minor": 2
}

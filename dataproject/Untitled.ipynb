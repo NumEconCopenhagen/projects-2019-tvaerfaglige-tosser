{
 "cells": [
  {
   "cell_type": "code",
   "execution_count": null,
   "metadata": {},
   "outputs": [],
   "source": [
    "#1\n",
    "from scipy import optimize,arange\n",
    "from numpy import array\n",
    "import matplotlib.pyplot as plt\n",
    "%matplotlib inline\n",
    "from ipywidgets import interactive, interact, interact_manual\n",
    "from pylab import *\n",
    "\n",
    "#2\n",
    "def demand(x1,x2,b):\n",
    "    return 100-x1-b*x2\n",
    "\n",
    "def cost(x,c,F):\n",
    "    if x == 0:\n",
    "     cost = 0\n",
    "    else:\n",
    "     cost = c*x+F\n",
    "    return cost\n",
    "def profit(x1,x2,b,c,F):\n",
    "    return demand(x1,x2,b)*x1 - cost(x1,c,F)\n",
    "\n",
    "#3\n",
    "def BRi(xj,ci,b,F):\n",
    "    x1 = optimize.brute(lambda x: -profit(x,xj,ci,b,F), ((0,1,),)) \n",
    "    return x1[0]\n",
    "\n",
    "#4\n",
    "def vector_BRi(x,b,c,F):\n",
    "    return array(x)-array([BRi(x[1],c[0],b,F[0]),BRi(x[0],c[1],b,F[1])])\n",
    "\n",
    "#5\n",
    "#PARAMETERS\n",
    "x0 = [40, 40]\n",
    "b = 1\n",
    "ci = [5, 5]\n",
    "Fi = [2, 2]\n",
    "#PARAMETERS END\n",
    "nash_eq = optimize.fsolve(vector_BRi, x0, args = (b,ci,Fi))\n",
    "print(nash_eq)\n",
    "\n",
    "#6\n",
    "def collusion_profits(x,b,c,F,delta): # we only do this for the symmetric case: c1 = c2 = c\n",
    "    profits = profit(x,x,b,c,F)\n",
    "    nash_eq = optimize.fsolve(vector_BRi, x0, args = (b,ci,Fi))\n",
    "    if profits >= (1-delta)*profit(BRi(x,c,b,F),x,c,b,F)+delta*profit(nash_eq[0],nash_eq[1],c,b,F):\n",
    "        industry_profits = 2*profits # profits can be sustained as collusion profits\n",
    "    else:\n",
    "        industry_profits = 0 # profits cannot be sustained as collusion profits\n",
    "    return industry_profits\n",
    "\n",
    "collusion_profits(1,b,ci[0],Fi[0],0.8)\n",
    "\n"
   ]
  },
  {
   "cell_type": "code",
   "execution_count": null,
   "metadata": {},
   "outputs": [],
   "source": []
  }
 ],
 "metadata": {
  "kernelspec": {
   "display_name": "Python 3",
   "language": "python",
   "name": "python3"
  },
  "language_info": {
   "codemirror_mode": {
    "name": "ipython",
    "version": 3
   },
   "file_extension": ".py",
   "mimetype": "text/x-python",
   "name": "python",
   "nbconvert_exporter": "python",
   "pygments_lexer": "ipython3",
   "version": "3.7.1"
  }
 },
 "nbformat": 4,
 "nbformat_minor": 2
}

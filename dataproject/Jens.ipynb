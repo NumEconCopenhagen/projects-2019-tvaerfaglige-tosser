{
 "cells": [
  {
   "cell_type": "code",
   "execution_count": 23,
   "metadata": {},
   "outputs": [
    {
     "name": "stdout",
     "output_type": "stream",
     "text": [
      "[ 0.  1.  2.  3.  4.  5.  6.  7.  8.  9. 10. 11. 12. 13. 14. 15. 16. 17.\n",
      " 18. 19. 20. 21. 22. 23. 24. 25. 26. 27. 28.]\n",
      "[0, 0, 0, 0, 0, 0, 992.0, 1130.0, 1260.0, 1382.0, 1496.0, 1602.0, 1700.0, 1790.0, 1872.0, 1946.0, 2012.0, 2070.0, 2120.0, 2162.0, 2196.0, 2222.0, 2240.0, 2250.0, 2252.0, 2246.0, 2232.0, 2210.0, 2180.0]\n",
      "[0, 0, 0, 0, 0, 0, 0, 0, 0, 1382.0, 1496.0, 1602.0, 1700.0, 1790.0, 1872.0, 1946.0, 2012.0, 2070.0, 2120.0, 2162.0, 2196.0, 2222.0, 2240.0, 2250.0, 2252.0, 2246.0, 2232.0, 2210.0, 2180.0]\n",
      "[0, 182.0, 344.0, 482.0, 596.0, 686.0, 752.0, 794.0, 812.0, 806.0, 776.0, 722.0, 644.0, 542.0, 416.0, 266.0, 92.0, 0, 0, 0, 0, 0, 0, 0, 0, 0, 0, 0, 0]\n"
     ]
    },
    {
     "data": {
      "text/plain": [
       "Text(0, 0.5, 'profits')"
      ]
     },
     "execution_count": 23,
     "metadata": {},
     "output_type": "execute_result"
    },
    {
     "data": {
      "image/png": "[encoded data removed]",
      "text/plain": [
       "<Figure size 432x288 with 1 Axes>"
      ]
     },
     "metadata": {
      "needs_background": "light"
     },
     "output_type": "display_data"
    }
   ],
   "source": [
    "#1\n",
    "from scipy import optimize,arange\n",
    "from numpy import array\n",
    "import matplotlib.pyplot as plt\n",
    "%matplotlib inline\n",
    "from ipywidgets import interactive, interact, interact_manual\n",
    "from pylab import *\n",
    "\n",
    "#2\n",
    "def demand(x1,x2,b):\n",
    "    return 100-x1-b*x2\n",
    "\n",
    "def cost(x,c,F):\n",
    "    if x == 0:\n",
    "     cost = 0\n",
    "    else:\n",
    "     cost = c*x+F\n",
    "    return cost\n",
    "def profit(x1,x2,b,c,F):\n",
    "    return demand(x1,x2,b)*x1 - cost(x1,c,F)\n",
    "\n",
    "#3\n",
    "def BRi(xj,ci,b,F):\n",
    "    x1 = optimize.brute(lambda x: -profit(x,xj,ci,b,F), ((0,1,),)) \n",
    "    return x1[0]\n",
    "\n",
    "#4\n",
    "def vector_BRi(x,b,c,F):\n",
    "    return array(x)-array([BRi(x[1],c[0],b,F[0]),BRi(x[0],c[1],b,F[1])])\n",
    "\n",
    "#5\n",
    "def collusion_profits(x,b,c,F,delta): # we only do this for the symmetric case: c1 = c2 = c\n",
    "    profits = profit(x,x,b,c,F)\n",
    "    nash_eq = optimize.fsolve(vector_BRi, x0, args = (b,ci,Fi))\n",
    "    if profits >= (1-delta)*profit(BRi(x,c,b,F),x,c,b,F)+delta*profit(nash_eq[0],nash_eq[1],c,b,F):\n",
    "        industry_profits = 2*profits # profits can be sustained as collusion profits\n",
    "    else:\n",
    "        industry_profits = 0 # profits cannot be sustained as collusion profits\n",
    "    return industry_profits\n",
    "\n",
    "#6\n",
    "\n",
    "#PARAMETERS\n",
    "x0 = [40, 40]\n",
    "b = 1\n",
    "ci = [5, 5]\n",
    "Fi = [2, 2]\n",
    "#PARAMETERS END\n",
    "\n",
    "#STEP-SIZE I GRAFEN:\n",
    "s_s = 1 \n",
    "# JO LAVERE, JO LANGSOMMERE ER KODEN, MEN JO MERE SMOOTH ER GRAFEN\n",
    "\n",
    "range_x = arange(0,nash_eq[0]*2,s_s) #NASH-EQ er en dårlig max, fordi man ikke ser collution-profittens maximum. Her har jeg bare ganget med to, før at gøre den større\n",
    "delta1 = 0.8\n",
    "delta2 = 0.2\n",
    "range_profits = [collusion_profits(x,b,ci[0],Fi[0],delta1) for x in range_x]\n",
    "range_profits2 = [collusion_profits(x,b,ci[0],Fi[0],delta2) for x in range_x]\n",
    "non_collute = [2*profit(x,x,ci[0],b,Fi[0]) if profit(x,x,ci[0],b,Fi[0])>0 else 0 for x in range_x]\n",
    "\n",
    "print(range_x)         #Bare checks. Skal slettes.\n",
    "print(range_profits)   #Bare checks. Skal slettes.\n",
    "print(range_profits2)  #Bare checks. Skal slettes.\n",
    "print(non_collute)     #Bare checks. Skal slettes.\n",
    "\n",
    "plt.clf()\n",
    "\n",
    "plt.plot(range_x, range_profits,'-', color = 'r', linewidth = 2)\n",
    "plt.plot(range_x, range_profits2,'-', color = 'b', linewidth = 2)\n",
    "plt.plot(range_x, non_collute,'-', color = 'g', linewidth = 2)\n",
    "plt.title(\"Collusion profits\",fontsize = 15)\n",
    "plt.xlabel(\"output\",fontsize = 15)\n",
    "plt.ylabel(\"profits\",fontsize = 15,rotation = 90)"
   ]
  },
  {
   "cell_type": "code",
   "execution_count": null,
   "metadata": {},
   "outputs": [],
   "source": []
  }
 ],
 "metadata": {
  "kernelspec": {
   "display_name": "Python 3",
   "language": "python",
   "name": "python3"
  },
  "language_info": {
   "codemirror_mode": {
    "name": "ipython",
    "version": 3
   },
   "file_extension": ".py",
   "mimetype": "text/x-python",
   "name": "python",
   "nbconvert_exporter": "python",
   "pygments_lexer": "ipython3",
   "version": "3.7.1"
  }
 },
 "nbformat": 4,
 "nbformat_minor": 2
}

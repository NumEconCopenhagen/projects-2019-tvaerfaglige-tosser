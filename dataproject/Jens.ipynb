{
 "cells": [
  {
   "cell_type": "code",
   "execution_count": 1,
   "metadata": {},
   "outputs": [
    {
     "name": "stdout",
     "output_type": "stream",
     "text": [
      "Downlaoding data...\n",
      "\n",
      "Mean close for AAPL is 158.47\n",
      "Mean close for BA is 95.24\n",
      "Mean close for AIG is 59.79\n",
      "Mean close for MSFT is 49.67\n",
      "Mean close for TSLA is 176.08\n",
      "Mean close for all stocks is 98.76\n",
      "\n",
      "-----------------------------------\n",
      "\n"
     ]
    }
   ],
   "source": [
    "# EXAMPLE LINK: https://www.alphavantage.co/query?function=TIME_SERIES_DAILY&symbol=AAPL&outputsize=full&apikey=XU0S88ZM101LB0FQ&datatype=csv\n",
    "\n",
    "# Import neccesary modules and packages #\n",
    "import pandas as pd\n",
    "%matplotlib inline\n",
    "import matplotlib.pyplot as plt\n",
    "import ipywidgets as widgets\n",
    "from ipywidgets import interactive\n",
    "\n",
    "#Notify everything's OK!\n",
    "print(\"Downlaoding data...\\n\")\n",
    "\n",
    "# SET ATTRIBUTES FOR DATA FETCH #\n",
    "apikey = \"XU0S88ZM101LB0FQ\" \n",
    "outputsize = \"full\" # Compact or full, if daily data. Compact is 100 days, full is 20+ years.\n",
    "tickers = [\"AAPL\",\"BA\",\"AIG\",\"MSFT\",\"TSLA\"] # Maximum of five stocks per data fetch and only one data fetch per minute allowed\n",
    "freq = \"DAILY\" # DAILY, WEEKLY OR MONTHLY\n",
    "adjusted_close = True\n",
    "\n",
    "# Empty Panda DataFrame to append individual stock data to \n",
    "stocks_df = pd.DataFrame() \n",
    "\n",
    "# Loop through tickercodes and fetch data individually, then append to stocks_df\n",
    "for ticker in tickers:\n",
    "    fetch_link = \"https://www.alphavantage.co/query?function=TIME_SERIES_\" + freq + \"_ADJUSTED&symbol=\" + ticker + \"&outputsize=\" + outputsize + \"&apikey=\" + apikey + \"&datatype=csv\"\n",
    "    df = pd.read_csv(fetch_link)\n",
    "    df[\"ticker\"] = ticker\n",
    "    print(\"Mean close for \" + ticker +  \" is \" + str(round(df.close.mean(),2)))\n",
    "    stocks_df = stocks_df.append(df,ignore_index=True)\n",
    "print(\"Mean close for all stocks is \" + str(round(stocks_df.close.mean(),2)))\n",
    "print(\"\\n-----------------------------------\\n\")\n",
    "\n",
    "def graph(ticker,days,adjusted):\n",
    "    get_stock=stocks_df.loc[stocks_df['ticker'] == ticker, :]\n",
    "    get_stock=get_stock.iloc[0:days]\n",
    "    get_stock = get_stock[::-1] # Reverses order of dataframe\n",
    "    get_stock = get_stock.reset_index() # Re-indexes\n",
    "    #plt.figure(figsize=(7,5))\n",
    "    plt.plot(get_stock['timestamp'], get_stock['adjusted_close'] if adjusted == True else get_stock['close'])\n",
    "    plt.title(ticker)\n",
    "    # HERUNDER LAVES X-AKSEN\n",
    "    #SLET IKKE DENNE KOMMENTAR: first_day_of_month = stocks_df.loc[get_stock['timestamp'].str[-2:] == \"01\", :].index.tolist()\n",
    "    if (days < 90):\n",
    "        every_x_day = round(days/22+0.5)\n",
    "        trading_days = get_stock.iloc[0:days].index.tolist()\n",
    "        ticks = trading_days[::every_x_day]\n",
    "        timestamp_values = get_stock[\"timestamp\"][ticks] \n",
    "    elif (days <= 360):\n",
    "        first_trading_day_of_month = get_stock.loc[get_stock['timestamp'].str[-2:] < get_stock['timestamp'].str[-2:].shift(periods=1),:].index.tolist()\n",
    "        ticks = first_trading_day_of_month\n",
    "        timestamp_values = get_stock[\"timestamp\"].str[:7][ticks]\n",
    "    else:\n",
    "        first_trading_day_of_year = get_stock.loc[get_stock['timestamp'].str[:4] > get_stock['timestamp'].str[:4].shift(periods=1),:].index.tolist()\n",
    "        ticks = first_trading_day_of_year\n",
    "        timestamp_values = get_stock[\"timestamp\"].str[:4][ticks]\n",
    "    plt.xticks(ticks,timestamp_values)\n",
    "    plt.xticks(rotation=90)\n",
    "    plt.show()"
   ]
  },
  {
   "cell_type": "code",
   "execution_count": 2,
   "metadata": {},
   "outputs": [
    {
     "data": {
      "application/vnd.jupyter.widget-view+json": {
       "model_id": "ba36d8a8f9654d9fa346bea2023c1717",
       "version_major": 2,
       "version_minor": 0
      },
      "text/plain": [
       "interactive(children=(Dropdown(description='ticker', options=('AAPL', 'BA', 'AIG', 'MSFT', 'TSLA'), value='AAP…"
      ]
     },
     "metadata": {},
     "output_type": "display_data"
    }
   ],
   "source": [
    "interactive_plot = interactive(graph, days=[('One week', 7), \n",
    "                      ('Two weeks', 14), \n",
    "                      ('One month', 30), \n",
    "                      ('Two months', 60), \n",
    "                      ('Three months', 90), \n",
    "                      ('Half year', 180), \n",
    "                      ('One year', 360), \n",
    "                      ('Two years', 720), \n",
    "                      ('Five years', 1800), \n",
    "                      ('10 years', 3600), \n",
    "                      ('All time', 999999999)],\n",
    "                adjusted=[('False',False),('True',True)],\n",
    "                ticker=tickers);\n",
    "output = interactive_plot.children[-1]\n",
    "output.layout.height = '350px'\n",
    "interactive_plot"
   ]
  },
  {
   "cell_type": "code",
   "execution_count": null,
   "metadata": {},
   "outputs": [],
   "source": []
  }
 ],
 "metadata": {
  "kernelspec": {
   "display_name": "Python 3",
   "language": "python",
   "name": "python3"
  },
  "language_info": {
   "codemirror_mode": {
    "name": "ipython",
    "version": 3
   },
   "file_extension": ".py",
   "mimetype": "text/x-python",
   "name": "python",
   "nbconvert_exporter": "python",
   "pygments_lexer": "ipython3",
   "version": "3.7.1"
  }
 },
 "nbformat": 4,
 "nbformat_minor": 2
}

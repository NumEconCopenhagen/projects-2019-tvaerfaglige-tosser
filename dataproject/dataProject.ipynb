{
 "cells": [
  {
   "cell_type": "markdown",
   "metadata": {},
   "source": [
    "# Data project by Laurits, Victor and Jens"
   ]
  },
  {
   "cell_type": "markdown",
   "metadata": {},
   "source": [
    "## Introduction\n",
    "Welcome to our project.\n",
    "\n",
    "The following is centered around US Stock Data, which is downloaded from [AlphaVantage](http://www.alphavantage.com), an online service that provides free access to financial data in an easily-accesible format through URL-calls.\n",
    "\n",
    "We have focused on making our code interactive, responsive and dynamic, meaning that the code will run independent on the stock data we load. To underline this, we include more than 20 years of data on *Apple* (AAPL), *Microsoft* (MSFT), *Boeing* (BA) and *AIG* (AIG). Furthermore, we invite you to include a stock of your own liking below – if you want. The code will run with or without the additional stock.\n",
    "\n",
    "The project makes the most sense, if you read each paragraph and run each piece of code chronically. Let's get started!"
   ]
  },
  {
   "cell_type": "markdown",
   "metadata": {},
   "source": [
    "## Fetching data\n",
    "We start by importing the neccesary modules and packages."
   ]
  },
  {
   "cell_type": "code",
   "execution_count": null,
   "metadata": {},
   "outputs": [],
   "source": [
    "# Import neccesary modules and packages #\n",
    "import pandas as pd\n",
    "%matplotlib inline\n",
    "import matplotlib.pyplot as plt\n",
    "import ipywidgets as widgets\n",
    "from ipywidgets import interactive, interact, interact_manual\n",
    "print(\"Import succesful.\\n\")"
   ]
  },
  {
   "cell_type": "markdown",
   "metadata": {},
   "source": [
    "Then we set the ticker-codes for the stock that we use in the analysis. This is also where you come in to play – first run the code, then in the interactive field, feel free to add a ticker code! The code should work with any stock – just make sure that you input a valid ticker code for an American stock (e.g. *TSLA* for Tesla)."
   ]
  },
  {
   "cell_type": "code",
   "execution_count": null,
   "metadata": {},
   "outputs": [],
   "source": [
    "tickers = [\"AAPL\",\"MSFT\",\"BA\",\"AIG\"]\n",
    "def set_tickers(custom_ticker):\n",
    "    if len(custom_ticker) > 1:\n",
    "        global tickers\n",
    "        tickers = [\"AAPL\",\"MSFT\",\"BA\",\"AIG\",custom_ticker.upper()]\n",
    "        print(\"Awesome - you added \" + tickers[4] + \"! No need to re-run any code. This stock will now be included in the analysis.\\nPlease note that the code will fail, if this is not a valid US stock ticker-code.\\n\\n--------------------------\")\n",
    "\n",
    "set_ticker = interactive(set_tickers, custom_ticker=\"\", description=\"Your ticker:\")\n",
    "set_ticker.children[0].description = 'Add a ticker:'\n",
    "set_ticker"
   ]
  },
  {
   "cell_type": "markdown",
   "metadata": {},
   "source": [
    "With the ticker-codes in place, we are ready to build the download-link and load data into individual Pandas DataFrames, which we append to the main *stocks_df* DataFrame through a loop. \n",
    "\n",
    "Run the code below to start the download of data. Just be aware that the files are relatively large (they contain more than 20 years of data, after all), why the download likely will take around a minute."
   ]
  },
  {
   "cell_type": "code",
   "execution_count": null,
   "metadata": {},
   "outputs": [],
   "source": [
    "# EXAMPLE LINK: https://www.alphavantage.co/query?function=TIME_SERIES_DAILY&symbol=AAPL&outputsize=full&apikey=XU0S88ZM101LB0FQ&datatype=csv\n",
    "\n",
    "#Notify everything's OK!\n",
    "print(\"Downloading data...\\n\")\n",
    "\n",
    "# SET ATTRIBUTES FOR DATA FETCH #\n",
    "apikey = \"XU0S88ZM101LB0FQ\" \n",
    "outputsize = \"full\" # Compact or full, if daily data. Compact is 100 days, full is 20+ years.\n",
    "freq = \"DAILY\" # DAILY, WEEKLY OR MONTHLY\n",
    "\n",
    "# Empty Panda DataFrame to append individual stock data to \n",
    "stocks_df = pd.DataFrame() \n",
    "\n",
    "# Loop through tickercodes and fetch data individually, then append to stocks_df\n",
    "for ticker in tickers:\n",
    "    fetch_link = \"https://www.alphavantage.co/query?function=TIME_SERIES_\" + freq + \"_ADJUSTED&symbol=\" + ticker + \"&outputsize=\" + outputsize + \"&apikey=\" + apikey + \"&datatype=csv\"\n",
    "    df = pd.read_csv(fetch_link)\n",
    "    df[\"ticker\"] = ticker\n",
    "    print(ticker + \" has been downloaded! Mean close is \" + str(round(df.close.mean(),2)) + \".\")\n",
    "    stocks_df = stocks_df.append(df,ignore_index=True)\n",
    "print(\"\\nAll data downloaded!\\n\")"
   ]
  },
  {
   "cell_type": "markdown",
   "metadata": {},
   "source": [
    "## Graphic presentation\n",
    "In order to present the data graphically, we first define a function that draws a graph of a stock. We wanted to make the graph interactive and dynamic, which took a lot of work, especially on the values of the x-axis, as we wanted to only show months or years when the scope of the data is very long, but show individual trading-days when the scope is short. "
   ]
  },
  {
   "cell_type": "code",
   "execution_count": null,
   "metadata": {},
   "outputs": [],
   "source": [
    "def graph(ticker,days,adjusted):\n",
    "    get_stock=stocks_df.loc[stocks_df['ticker'] == ticker, :]\n",
    "    get_stock=get_stock.iloc[0:days]\n",
    "    get_stock = get_stock[::-1] # Reverses order of dataframe\n",
    "    get_stock = get_stock.reset_index() # Re-indexes\n",
    "    #plt.figure(figsize=(7,5))\n",
    "    plt.plot(get_stock['timestamp'], get_stock['adjusted_close'] if adjusted == True else get_stock['close'])\n",
    "    plt.title(ticker)\n",
    "    # HERUNDER LAVES X-AKSEN\n",
    "    if (days < 90):\n",
    "        every_x_day = round(days/22+0.5)\n",
    "        trading_days = get_stock.iloc[0:days].index.tolist()\n",
    "        ticks = trading_days[::every_x_day]\n",
    "        timestamp_values = get_stock[\"timestamp\"][ticks] \n",
    "    elif (days <= 360):\n",
    "        first_trading_day_of_month = get_stock.loc[get_stock['timestamp'].str[-2:] < get_stock['timestamp'].str[-2:].shift(periods=1),:].index.tolist()\n",
    "        ticks = first_trading_day_of_month\n",
    "        timestamp_values = get_stock[\"timestamp\"].str[:7][ticks]\n",
    "    else:\n",
    "        first_trading_day_of_year = get_stock.loc[get_stock['timestamp'].str[:4] > get_stock['timestamp'].str[:4].shift(periods=1),:].index.tolist()\n",
    "        ticks = first_trading_day_of_year\n",
    "        timestamp_values = get_stock[\"timestamp\"].str[:4][ticks]\n",
    "    plt.xticks(ticks,timestamp_values)\n",
    "    plt.xticks(rotation=90)\n",
    "    plt.show()\n",
    "print(\"Function to draw graph succesfully defined.\\n\")"
   ]
  },
  {
   "cell_type": "markdown",
   "metadata": {},
   "source": [
    "Now that we have the function defined, we can call it interactively to show the graph. First we define a list, which includes the number of trading days in a standard week, month, etc. Then we use this as well as a couple of other parameters for the graph.\n",
    "\n",
    "Run the code below to show the interactive graph."
   ]
  },
  {
   "cell_type": "code",
   "execution_count": null,
   "metadata": {},
   "outputs": [],
   "source": [
    "trading_days = [('One week', 5), \n",
    "                ('Two weeks', 10), \n",
    "                ('One month', 21), \n",
    "                ('Two months', 42), \n",
    "                ('Three months', 63), \n",
    "                ('Half year', 125), \n",
    "                ('One year', 250), \n",
    "                ('Two years', 500), \n",
    "                ('Five years', 1250), \n",
    "                ('10 years', 2500), \n",
    "                ('All time', 999999999)]\n",
    "interactive_plot = interactive(graph, days=trading_days, ticker=tickers, adjusted=False,);\n",
    "interactive_plot.children[-1].layout.height = '320px'\n",
    "interactive_plot.children[0].layout.display = 'true'\n",
    "interactive_plot.children[1].layout.display = 'true'\n",
    "interactive_plot.children[2].layout.display = 'none'\n",
    "interactive_plot"
   ]
  },
  {
   "cell_type": "markdown",
   "metadata": {},
   "source": [
    "Now that we have a graph, we can look at the individual stock data and the historical prices.\n",
    "There is an issue, however – try choosing the Apple stock on a five-year horizon. There is a huge drop in prices 2014. We suspect this is the result of a stock split. To examine this, we draw a new graph, now with an option to show *adjusted close* price, which takes stock splits, dividend payments, etc. into account, when constructing the time series. Run the code below to see the graph."
   ]
  },
  {
   "cell_type": "code",
   "execution_count": null,
   "metadata": {},
   "outputs": [],
   "source": [
    "interactive_plot = interactive(graph, days=trading_days, ticker=tickers, adjusted=True,);\n",
    "interactive_plot.children[-1].layout.height = '320px'\n",
    "interactive_plot.children[0].layout.display = 'true'\n",
    "interactive_plot.children[1].layout.display = 'true'\n",
    "interactive_plot.children[2].layout.display = 'true'\n",
    "interactive_plot"
   ]
  },
  {
   "cell_type": "markdown",
   "metadata": {},
   "source": [
    "## Analysis"
   ]
  },
  {
   "cell_type": "markdown",
   "metadata": {},
   "source": [
    "Diving further into the data analysis, we have calculated standard moments of data as well as the sharp ratio. I would like to invite my colleague, Victor, to the stage, to take you through this part of the analysis. Victor – what do we do, how do we do it, and what do we find?"
   ]
  },
  {
   "cell_type": "code",
   "execution_count": null,
   "metadata": {},
   "outputs": [],
   "source": []
  }
 ],
 "metadata": {
  "kernelspec": {
   "display_name": "Python 3",
   "language": "python",
   "name": "python3"
  },
  "language_info": {
   "codemirror_mode": {
    "name": "ipython",
    "version": 3
   },
   "file_extension": ".py",
   "mimetype": "text/x-python",
   "name": "python",
   "nbconvert_exporter": "python",
   "pygments_lexer": "ipython3",
   "version": "3.7.1"
  }
 },
 "nbformat": 4,
 "nbformat_minor": 2
}

{
 "cells": [
  {
   "cell_type": "markdown",
   "metadata": {},
   "source": [
    "# Introduction"
   ]
  },
  {
   "cell_type": "markdown",
   "metadata": {},
   "source": [
    "Our project is centred around a comparision of the public stocks for Apple (AAPL), Microsoft (MSFT), AIG (AIG) and Boeing (BA). Throughout this assignment, we will fetch all data from [AlphaVantage](https://www.alphavantage.com), who provide easy-accessible stock data in CSV-format. The data is cleaned, illustrated interactively, and we perform some basic transformations as well as describe the data.\n",
    "\n",
    "We have tried our best to make the code responsible, meaning that elements (eg. the specific stock-ticker codes or length of the time-series) can be changed without breaking the graphs. Feel free to play around with the code.\n",
    "\n",
    "Enjoy!"
   ]
  },
  {
   "cell_type": "markdown",
   "metadata": {},
   "source": [
    "---"
   ]
  },
  {
   "cell_type": "markdown",
   "metadata": {},
   "source": [
    "# Let's get data"
   ]
  },
  {
   "cell_type": "markdown",
   "metadata": {},
   "source": [
    "We start by importing the nedded packages for our peoject:"
   ]
  },
  {
   "cell_type": "code",
   "execution_count": 7,
   "metadata": {},
   "outputs": [],
   "source": [
    "# Import neccesary modules and packages\n",
    "import pandas as pd\n",
    "import matplotlib.pyplot as plt"
   ]
  },
  {
   "cell_type": "markdown",
   "metadata": {},
   "source": [
    "With this taken care of, we shift focus to gathering data. As mentioned, we use AlphaVantage for this. AlphaVantage gives the option to fetch CSV data on stocks with a link in which parameters are specified. We start by specifying these. We specify an array consisting of the ticker-codes for the stocks we want to examine, as well as an empty Pandas data-frame to hold the results."
   ]
  },
  {
   "cell_type": "code",
   "execution_count": 6,
   "metadata": {},
   "outputs": [],
   "source": [
    "# Set attributes for data-fetch\n",
    "apikey = \"XU0S88ZM101LB0FQ\" \n",
    "outputsize = \"full\" # Compact or full, if daily data. Compact is 100 days, full is 20+ years.\n",
    "freq = \"DAILY\" # DAILY, WEEKLY OR MONTHLY\n",
    "adjusted_close = False\n",
    "\n",
    "# Set ticker-codes\n",
    "tickers = [\"AAPL\",\"MSFT\",\"AIG\",\"BA\"] # Max one data fetch per minute allowed\n",
    "\n",
    "# Empty Panda DataFrame to append individual stock data to \n",
    "stocks_df = pd.DataFrame()"
   ]
  },
  {
   "cell_type": "markdown",
   "metadata": {},
   "source": [
    "We are now ready to fetch the data. This is done by iterating over the individual tickers in the tickers-list. We build the fetch-link with the parameters above, read it and append it to the *stocks_df* DataFrame. A couple of checks are built in by printing the individual mean values, and the mean for all stocks."
   ]
  },
  {
   "cell_type": "code",
   "execution_count": 12,
   "metadata": {},
   "outputs": [
    {
     "name": "stdout",
     "output_type": "stream",
     "text": [
      "AAPL OK. Mean close is 158.47\n",
      "MSFT OK. Mean close is 49.67\n",
      "AIG OK. Mean close is 59.79\n",
      "BA OK. Mean close is 95.24\n",
      "\n",
      "All data fetched.\n",
      "Mean close for all stocks is 90.79.\n"
     ]
    }
   ],
   "source": [
    "for ticker in tickers:\n",
    "    fetch_link = \"https://www.alphavantage.co/query?function=TIME_SERIES_\" + freq + \"_ADJUSTED&symbol=\" + ticker + \"&outputsize=\" + outputsize + \"&apikey=\" + apikey + \"&datatype=csv\"\n",
    "    df = pd.read_csv(fetch_link)\n",
    "    df[\"ticker\"] = ticker\n",
    "    print(ticker + \" OK. Mean close is \" + str(round(df.close.mean(),2)) + \".\")\n",
    "    stocks_df = stocks_df.append(df,ignore_index=True)\n",
    "print(\"\\nAll data fetched.\\nMean close for all stocks is \" + str(round(stocks_df.close.mean(),2)) + \".\")"
   ]
  }
 ],
 "metadata": {
  "kernelspec": {
   "display_name": "Python 3",
   "language": "python",
   "name": "python3"
  },
  "language_info": {
   "codemirror_mode": {
    "name": "ipython",
    "version": 3
   },
   "file_extension": ".py",
   "mimetype": "text/x-python",
   "name": "python",
   "nbconvert_exporter": "python",
   "pygments_lexer": "ipython3",
   "version": "3.7.1"
  }
 },
 "nbformat": 4,
 "nbformat_minor": 2
}

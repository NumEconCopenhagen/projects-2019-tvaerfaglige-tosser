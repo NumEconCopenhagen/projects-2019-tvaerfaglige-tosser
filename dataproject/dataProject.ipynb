{
 "cells": [
  {
   "cell_type": "markdown",
   "metadata": {},
   "source": [
    "# Data project by Laurits, Victor and Jens"
   ]
  },
  {
   "cell_type": "markdown",
   "metadata": {},
   "source": [
    "## Introduction\n",
    "Welcome to our project.\n",
    "\n",
    "The following is centered around US Stock Data, which is downloaded from [AlphaVantage](http://www.alphavantage.com), an online service that provides free access to financial data in an easily-accesible format through URL-calls.\n",
    "\n",
    "We have focused on making our code interactive, responsive and dynamic, meaning that the code will run independent on the stock data we load. To underline this, we include more than 20 years of data on *Apple* (AAPL), *Microsoft* (MSFT), *Boeing* (BA) and *AIG* (AIG). Furthermore, we invite you to include a stock of your own liking below – if you want. The code will run with or without the additional stock.\n",
    "\n",
    "The project makes the most sense, if you read each paragraph and run each piece of code chronically. Let's get started!"
   ]
  },
  {
   "cell_type": "markdown",
   "metadata": {},
   "source": [
    "## Fetching data\n",
    "We start by importing the neccesary modules and packages."
   ]
  },
  {
   "cell_type": "code",
   "execution_count": 1,
   "metadata": {},
   "outputs": [
    {
     "name": "stdout",
     "output_type": "stream",
     "text": [
      "Import succesful.\n",
      "\n"
     ]
    }
   ],
   "source": [
    "# Import neccesary modules and packages #\n",
    "import pandas as pd\n",
    "%matplotlib inline\n",
    "import matplotlib.pyplot as plt\n",
    "import ipywidgets as widgets\n",
    "from ipywidgets import interactive, interact, interact_manual\n",
    "print(\"Import succesful.\\n\")"
   ]
  },
  {
   "cell_type": "markdown",
   "metadata": {},
   "source": [
    "Then we set the ticker-codes for the stock that we use in the analysis. This is also where you come in to play – first run the code, then in the interactive field, feel free to add a ticker code! The code should work with any stock – just make sure that you input a valid ticker code for an American stock (e.g. *F* for Ford or *BAC* for Bank of America)."
   ]
  },
  {
   "cell_type": "code",
   "execution_count": 2,
   "metadata": {},
   "outputs": [
    {
     "name": "stdout",
     "output_type": "stream",
     "text": [
      "\n",
      "---------------------------------------\n",
      "Type your custom ticker-code here:\n"
     ]
    },
    {
     "data": {
      "application/vnd.jupyter.widget-view+json": {
       "model_id": "50bcca5808464bcba5e28b9624af5aab",
       "version_major": 2,
       "version_minor": 0
      },
      "text/plain": [
       "interactive(children=(Text(value='', description='Add a ticker:'), Output()), _dom_classes=('widget-interact',…"
      ]
     },
     "metadata": {},
     "output_type": "display_data"
    }
   ],
   "source": [
    "print(\"\\n---------------------------------------\\nType your custom ticker-code here:\")\n",
    "tickers = [\"AAPL\",\"MSFT\",\"BA\",\"AIG\"]\n",
    "def set_tickers(custom_ticker):\n",
    "    if len(custom_ticker) >= 1:\n",
    "        global tickers\n",
    "        tickers = [\"AAPL\",\"MSFT\",\"BA\",\"AIG\",custom_ticker.upper()]\n",
    "        print(\"Awesome - you added \" + tickers[4] + \"! No need to re-run any code. This stock will now be included in the analysis.\\nPlease note that the code will fail, if this is not a valid US stock ticker-code.\\n\\n--------------------------\")\n",
    "    if len(custom_ticker) == 0:\n",
    "        tickers = [\"AAPL\",\"MSFT\",\"BA\",\"AIG\"]\n",
    "        print(\"So far no ticker added. That's okay!\\n---------------------------------------\")\n",
    "set_ticker = interactive(set_tickers, custom_ticker=\"\", description=\"Your ticker:\")\n",
    "set_ticker.children[0].description = 'Add a ticker:'\n",
    "set_ticker"
   ]
  },
  {
   "cell_type": "markdown",
   "metadata": {},
   "source": [
    "With the ticker-codes in place, we are ready to build the download-link and load data into individual Pandas DataFrames, which we append to the main *stocks_df* DataFrame through a loop. \n",
    "\n",
    "Run the code below to start the download of data. Just be aware that the files are relatively large (they contain more than 20 years of data, after all), why the download likely will take around a minute."
   ]
  },
  {
   "cell_type": "code",
   "execution_count": 3,
   "metadata": {},
   "outputs": [
    {
     "name": "stdout",
     "output_type": "stream",
     "text": [
      "Downloading data...\n",
      "\n",
      "AAPL has been downloaded! Mean close is 158.66.\n",
      "MSFT has been downloaded! Mean close is 50.0.\n",
      "BA has been downloaded! Mean close is 96.51.\n",
      "AIG has been downloaded! Mean close is 59.73.\n",
      "BAC has been downloaded! Mean close is 37.34.\n",
      "\n",
      "All data downloaded.\n",
      "\n",
      "Now let's look at this data!\n"
     ]
    }
   ],
   "source": [
    "# EXAMPLE LINK: https://www.alphavantage.co/query?function=TIME_SERIES_DAILY&symbol=AAPL&outputsize=full&apikey=XU0S88ZM101LB0FQ&datatype=csv\n",
    "\n",
    "#Notify everything's OK!\n",
    "print(\"Downloading data...\\n\")\n",
    "\n",
    "# SET ATTRIBUTES FOR DATA FETCH #\n",
    "apikey = \"XU0S88ZM101LB0FQ\" \n",
    "outputsize = \"full\" # Compact or full, if daily data. Compact is 100 days, full is 20+ years.\n",
    "freq = \"DAILY\" # DAILY, WEEKLY OR MONTHLY\n",
    "\n",
    "# Empty Panda DataFrame to append individual stock data to \n",
    "stocks_df = pd.DataFrame() \n",
    "\n",
    "# Loop through tickercodes and fetch data individually, then append to stocks_df\n",
    "for ticker in tickers:\n",
    "    fetch_link = \"https://www.alphavantage.co/query?function=TIME_SERIES_\" + freq + \"_ADJUSTED&symbol=\" + ticker + \"&outputsize=\" + outputsize + \"&apikey=\" + apikey + \"&datatype=csv\"\n",
    "    df = pd.read_csv(fetch_link)\n",
    "    df[\"ticker\"] = ticker\n",
    "    print(ticker + \" has been downloaded! Mean close is \" + str(round(df.close.mean(),2)) + \".\")\n",
    "    stocks_df = stocks_df.append(df,ignore_index=True)\n",
    "print(\"\\nAll data downloaded.\\n\\nNow let's look at this data!\")"
   ]
  },
  {
   "cell_type": "markdown",
   "metadata": {},
   "source": [
    "## Graphic presentation\n",
    "In order to present the data graphically, we first define a function that draws a graph of a stock. This is done with matplotlib. We wanted to make the graph interactive and dynamic, which took a lot of work, especially on the values of the x-axis, as we wanted to only show months or years when the scope of the data is very long, but show individual trading-days when the scope is short. "
   ]
  },
  {
   "cell_type": "code",
   "execution_count": 4,
   "metadata": {},
   "outputs": [
    {
     "name": "stdout",
     "output_type": "stream",
     "text": [
      "Function to draw graph succesfully defined.\n",
      "\n"
     ]
    }
   ],
   "source": [
    "def graph(ticker,days,adjusted):\n",
    "    get_stock=stocks_df.loc[stocks_df['ticker'] == ticker, :]\n",
    "    get_stock=get_stock.iloc[0:days]\n",
    "    get_stock = get_stock[::-1] # Reverses order of dataframe\n",
    "    get_stock = get_stock.reset_index() # Re-indexes\n",
    "    plt.plot(get_stock['timestamp'], get_stock['adjusted_close'] if adjusted == True else get_stock['close'])\n",
    "    plt.title(ticker)\n",
    "    # HERUNDER LAVES X-AKSEN\n",
    "    if (days < 90):\n",
    "        every_x_day = round(days/22+0.5)\n",
    "        trading_days = get_stock.iloc[0:days].index.tolist()\n",
    "        ticks = trading_days[::every_x_day]\n",
    "        timestamp_values = get_stock[\"timestamp\"][ticks] \n",
    "    elif (days <= 360):\n",
    "        first_trading_day_of_month = get_stock.loc[get_stock['timestamp'].str[-2:] < get_stock['timestamp'].str[-2:].shift(periods=1),:].index.tolist()\n",
    "        ticks = first_trading_day_of_month\n",
    "        timestamp_values = get_stock[\"timestamp\"].str[:7][ticks]\n",
    "    else:\n",
    "        first_trading_day_of_year = get_stock.loc[get_stock['timestamp'].str[:4] > get_stock['timestamp'].str[:4].shift(periods=1),:].index.tolist()\n",
    "        ticks = first_trading_day_of_year\n",
    "        timestamp_values = get_stock[\"timestamp\"].str[:4][ticks]\n",
    "    plt.xticks(ticks,timestamp_values)\n",
    "    plt.xticks(rotation=90)\n",
    "    plt.show()\n",
    "print(\"Function to draw graph succesfully defined.\\n\")"
   ]
  },
  {
   "cell_type": "markdown",
   "metadata": {},
   "source": [
    "Now that we have the function defined, we can call it interactively to show the graph. First we define a list, which includes the number of trading days in a standard week, month, etc. Then we use this as well as a couple of other parameters for the graph.\n",
    "\n",
    "Run the code below to show the interactive graph."
   ]
  },
  {
   "cell_type": "code",
   "execution_count": 5,
   "metadata": {},
   "outputs": [
    {
     "data": {
      "application/vnd.jupyter.widget-view+json": {
       "model_id": "748f2101c5404cf7aad215d77f8a5ef6",
       "version_major": 2,
       "version_minor": 0
      },
      "text/plain": [
       "interactive(children=(Dropdown(description='ticker', layout=Layout(display='true'), options=('AAPL', 'MSFT', '…"
      ]
     },
     "metadata": {},
     "output_type": "display_data"
    }
   ],
   "source": [
    "trading_days = [('One week', 5), \n",
    "                ('Two weeks', 10), \n",
    "                ('One month', 21), \n",
    "                ('Two months', 42), \n",
    "                ('Three months', 63), \n",
    "                ('Half year', 125), \n",
    "                ('One year', 250), \n",
    "                ('Two years', 500), \n",
    "                ('Five years', 1250), \n",
    "                ('10 years', 2500), \n",
    "                ('All time', 999999999)]\n",
    "interactive_plot = interactive(graph, days=trading_days, ticker=tickers, adjusted=False,);\n",
    "interactive_plot.children[-1].layout.height = '320px'\n",
    "interactive_plot.children[0].layout.display = 'true'\n",
    "interactive_plot.children[1].layout.display = 'true'\n",
    "interactive_plot.children[2].layout.display = 'none'\n",
    "interactive_plot"
   ]
  },
  {
   "cell_type": "markdown",
   "metadata": {},
   "source": [
    "Now that we have a graph, we can look at the individual stock data and the historical prices.\n",
    "There is an issue, however – try choosing the Apple stock on a five-year horizon. There is a huge drop in prices 2014. We suspect that this is the result of a stock split rather than an actual fall in share price. To examine this, we draw a new graph, now with an option to show *adjusted close* price, which takes stock splits, dividend payments, etc. into account, when constructing the time series. Run the code below to see the graph."
   ]
  },
  {
   "cell_type": "code",
   "execution_count": 6,
   "metadata": {},
   "outputs": [
    {
     "data": {
      "application/vnd.jupyter.widget-view+json": {
       "model_id": "d6ba46795d884897adb3e0cb7f12252a",
       "version_major": 2,
       "version_minor": 0
      },
      "text/plain": [
       "interactive(children=(Dropdown(description='ticker', layout=Layout(display='true'), options=('AAPL', 'MSFT', '…"
      ]
     },
     "metadata": {},
     "output_type": "display_data"
    }
   ],
   "source": [
    "interactive_plot = interactive(graph, days=trading_days, ticker=tickers, adjusted=True,);\n",
    "interactive_plot.children[-1].layout.height = '320px'\n",
    "interactive_plot.children[0].layout.display = 'true'\n",
    "interactive_plot.children[1].layout.display = 'true'\n",
    "interactive_plot.children[2].layout.display = 'true'\n",
    "interactive_plot"
   ]
  },
  {
   "cell_type": "markdown",
   "metadata": {},
   "source": [
    "## Analysis"
   ]
  },
  {
   "cell_type": "markdown",
   "metadata": {},
   "source": [
    "Diving further into the data analysis, we have calculated standard moments of data as well as the sharp ratio, which is a measure for return on a stock relative to volatility (and therefore risk) in said stock. Firstly, we will like to calculate the returns and put them up in a nice way. Our current data structure places the stocks on top of each other in the *stocks_df* DataFrame. For further analysis, we change this:\n",
    "\n",
    "*[NB: If you have added a custom stock, which has not been listed for the entire 20 year period (eg. Tesla or Facebook), it is also filtered out as we later calculate covariances, why all stocks must have the same number of observations.]*"
   ]
  },
  {
   "cell_type": "code",
   "execution_count": null,
   "metadata": {},
   "outputs": [],
   "source": [
    "df_p=stocks_df.copy() #Makes a copy of main dataframe\n",
    "df_p = df_p[::-1] # Reverses order of dataframe\n",
    "df_p['return']=df_p['adjusted_close'].pct_change() #calculate daily return\n",
    "df_r = pd.DataFrame() #Creates new dataframe with the returns\n",
    "x=df_p.loc[df_p['ticker']=='AAPL','timestamp']  #Getting timestamp. AAPL is just chosen as we know this covers the entire period\n",
    "df_r['timestamp']=x\n",
    "for company in tickers:\n",
    "    x=df_p.loc[df_p['ticker']==company,'return'].values #Getting all return values for the company\n",
    "    if len(x)==len(df_r['timestamp']): #Only proceeds if the company has been listed during the whole period\n",
    "        df_r[company]=x\n",
    "        df_r.set_index('timestamp', drop=True, append=False, inplace=False, verify_integrity=False)\n",
    "df_r = df_r.set_index('timestamp', drop=True, append=False, inplace=False, verify_integrity=False) \n",
    "df_r.head(5)"
   ]
  },
  {
   "cell_type": "markdown",
   "metadata": {},
   "source": [
    "As you see the stock are now placed besides each other. But the first line is flawed as we cannot calculate the percentage change for the first period. The (incorrect) values that are actually calculated for the first stocks are caused by the data-structure, where stocks are placed on top of each other. We need to fix that, by removing the first observation for each stock."
   ]
  },
  {
   "cell_type": "code",
   "execution_count": null,
   "metadata": {},
   "outputs": [],
   "source": [
    "df_r1=df_r.copy() #Makes sure that this cell runs without having to refresh\n",
    "df_r1=df_r1[1:] #Removing first obs. which is NaN or a wrong value (can't find pct. change for first observation)\n",
    "df_r1.head(5)"
   ]
  },
  {
   "cell_type": "markdown",
   "metadata": {},
   "source": [
    "That's better. Now we can calculate the covariance between the stocks and present them nicely."
   ]
  },
  {
   "cell_type": "code",
   "execution_count": null,
   "metadata": {},
   "outputs": [],
   "source": [
    "liste=list(df_r1.columns.values)\n",
    "liste=liste[0:]\n",
    "def correlation_matrix(df):\n",
    "    from matplotlib import pyplot as plt\n",
    "    from matplotlib import cm as cm\n",
    "\n",
    "    fig = plt.figure()\n",
    "    ax1 = fig.add_subplot(111)\n",
    "    cmap = cm.get_cmap('Blues', 30)\n",
    "    cax = ax1.imshow(df.corr(), interpolation=\"nearest\", cmap=cmap)\n",
    "    ax1.grid(True)\n",
    "    plt.title('Covariance matrix')\n",
    "    labels=[\"\",liste[0],liste[1],liste[2],liste[3] if len(liste)>=4 else \"\",liste[4] if len(liste)==5 else \"\"]\n",
    "    ax1.set_xticklabels(labels,fontsize=6)\n",
    "    ax1.set_yticklabels(labels,fontsize=6)\n",
    "    # Add colorbar, make sure to specify tick locations to match desired ticklabels\n",
    "    fig.colorbar(cax, ticks=[-1,-.5,0,.5,1])\n",
    "    plt.show()\n",
    "\n",
    "correlation_matrix(df_r1)"
   ]
  },
  {
   "cell_type": "markdown",
   "metadata": {},
   "source": [
    "Very nice. We now have an idea about how the stock correlate with each other. Lets now try to calculate which have provided the best risk adjusted return, namely the Sharpe-ratio. Firstly, we need the standard deviations."
   ]
  },
  {
   "cell_type": "code",
   "execution_count": null,
   "metadata": {},
   "outputs": [],
   "source": [
    "table=pd.DataFrame(index=['ann. return', 'std', 'sharpe ratio'], columns=liste)\n",
    "for l in liste:\n",
    "    x=stocks_df.loc[df_p['ticker']==l,'adjusted_close'].values\n",
    "    x=(x[0]/x[-1])**(1/20)-1\n",
    "    table[l]['ann. return']=x\n",
    "display(table)"
   ]
  },
  {
   "cell_type": "markdown",
   "metadata": {},
   "source": [
    "Then we find the annualized returns:"
   ]
  },
  {
   "cell_type": "code",
   "execution_count": null,
   "metadata": {},
   "outputs": [],
   "source": [
    "for l in liste:\n",
    "    table[l]['std']=df_r1[l].std()\n",
    "display(table)"
   ]
  },
  {
   "cell_type": "markdown",
   "metadata": {},
   "source": [
    "Finally, the sharpe ratio is the annualized return divided by the standard deviation. They are calculated as:"
   ]
  },
  {
   "cell_type": "code",
   "execution_count": null,
   "metadata": {},
   "outputs": [],
   "source": [
    "for l in liste:\n",
    "    table[l]['sharpe ratio']=table[l]['ann. return']/table[l]['std']\n",
    "display(table)"
   ]
  },
  {
   "cell_type": "markdown",
   "metadata": {},
   "source": [
    "Yay! We now know the best risk adjusted investment - at least historically. Go long! :D\n",
    "\n",
    "This concludes our analysis. Thanks for reading along."
   ]
  }
 ],
 "metadata": {
  "kernelspec": {
   "display_name": "Python 3",
   "language": "python",
   "name": "python3"
  },
  "language_info": {
   "codemirror_mode": {
    "name": "ipython",
    "version": 3
   },
   "file_extension": ".py",
   "mimetype": "text/x-python",
   "name": "python",
   "nbconvert_exporter": "python",
   "pygments_lexer": "ipython3",
   "version": "3.7.1"
  }
 },
 "nbformat": 4,
 "nbformat_minor": 2
}

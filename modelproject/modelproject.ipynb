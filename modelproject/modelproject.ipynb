{
 "cells": [
  {
   "cell_type": "markdown",
   "metadata": {},
   "source": [
    "# The Cournot model and the possibility of collusion"
   ]
  },
  {
   "cell_type": "markdown",
   "metadata": {},
   "source": [
    "## The model"
   ]
  },
  {
   "cell_type": "code",
   "execution_count": 17,
   "metadata": {},
   "outputs": [],
   "source": [
    "import numpy as np\n",
    "%matplotlib inline\n",
    "import pandas as pd\n",
    "from scipy import optimize,arange\n",
    "import matplotlib.pyplot as plt\n",
    "import ipywidgets as widgets\n",
    "from ipywidgets import interact, interactive, fixed, interact_manual"
   ]
  },
  {
   "cell_type": "markdown",
   "metadata": {},
   "source": [
    "In this project we want to investigate the cournot equilibrium and in this regard investigate when collusion can be optained. As an extra feature we check this result for different degrees of elasticity of substitution between the goods (i.e when the firm's goods are seen as similar of different degrees)."
   ]
  },
  {
   "cell_type": "markdown",
   "metadata": {},
   "source": [
    "For simplicity we will in this project work with only two firms indicating a duopoly but the project can easily be extended to include more firms in the market.\n",
    "We start by defining a linear demand curve for good $x_i$ given as: \\\\[p(x_i,x_{j},b)=100-x_i-bx_j\\\\] where b indicates the degree of substitution between the goods (if b=1 we have perfect substitutes and if b<1 the goods are seen as different)."
   ]
  },
  {
   "cell_type": "markdown",
   "metadata": {},
   "source": [
    "Now having the demand, we need to specify the cost and we assume that the firms incurs fixed marginal costs and the cost function is given by: \\\\[c(x,f)=cx+F\\\\] where F is fixed costs. The profit for firm i is given by: \\\\[\\pi_i(x_i,x_{j},c,b)=p(x_i,x_{j},b)*x_i-c_i(x_i,F)\\\\] unless the firms incurs a negative profit, then it will not produce (we investige the production in the long run) which implies the following demand, cost functions and profit functions. "
   ]
  },
  {
   "cell_type": "code",
   "execution_count": 12,
   "metadata": {},
   "outputs": [],
   "source": [
    "def demand(xi,xj,b):\n",
    "    return 100-xi-b*xj\n",
    "def cost(xi,ci,F):\n",
    "    if ci==0:\n",
    "        cost=0\n",
    "    else:\n",
    "        cost=ci*xi+F\n",
    "    return cost\n",
    "def profit(xi,xj,ci,b,F):\n",
    "    return demand(xi,xj,b)*xi-cost(xi,ci,F)"
   ]
  },
  {
   "cell_type": "markdown",
   "metadata": {},
   "source": [
    "## Reaction functions"
   ]
  },
  {
   "cell_type": "markdown",
   "metadata": {},
   "source": [
    "Unlike the Bertrand model where firms compete by setting prices, in the cournot model, the firms maximize profits by choosing the amount to be produced and the price are then determined by this quantity in the demand function. Each firm then maximize their profit function given the production of the other and $x_i^*,x_j^*$ indicate the nash equilibrium indicate the point where neither of the firms can do better by deviating from this point. This is given by: \\\\[x_i^*= \\underset{x_i} \\max \\, \\pi(x_i,x_j^*,c,b) \\\\] and $x_j$ is found in the same way for $x_i^*$"
   ]
  },
  {
   "cell_type": "markdown",
   "metadata": {},
   "source": [
    "This optimal output given the production of the other firm is called the reaction function and it is found using the first order derivative (as $\\pi_i$ is clearly concave wrt $x_i$):\n",
    "\\\\[ \\frac{\\partial \\pi (x_i,x_j^*)}{\\partial x_i} =0 \\\\]\n",
    "and then solving for $x_i$. The reaction function can be found analytically to be: \\\\[ x_i^*=\\frac{1}{2}\\left[ 100-bx_j-c_i\\right] \\\\]\n",
    "But can also be found by numerical optimization using the scipy optimizer. Initially we use the brute method which evaluates the profit function at each point of prespecified range. A natural choice of this range is 0 to 100 given the specified demand function. The pros for this method is that it is that it requires very little information and there is no need for any derivatives. The optimizer simply evaluates the function at different values and find the minimum value. Naturally the con of this approach is that it very inefficient and the number of derivation increase exponentially as the range/grid increases."
   ]
  },
  {
   "cell_type": "code",
   "execution_count": 13,
   "metadata": {},
   "outputs": [],
   "source": [
    "def reac_func(xj,ci,b,F):\n",
    "    xi = optimize.brute(lambda x: -profit(x,xj,ci,b,F), ((0,100),),) #As brute is a minizer -profit is the optimal profit value\n",
    "    return xi[0] #Returns the xi value xi[1] would provide the actual profit for this production"
   ]
  },
  {
   "cell_type": "markdown",
   "metadata": {},
   "source": [
    "We can now draw the reaction function for a given values of $c_i,b,F$ using the ipywi package. As pyplot take values and not functions as input we find the reaction function for a range of $x_j$"
   ]
  },
  {
   "cell_type": "code",
   "execution_count": 37,
   "metadata": {},
   "outputs": [],
   "source": [
    "from pylab import *\n",
    "def draw_rf(ci=10,b=1,F=0): #We need to input of ci and b and F to make draw the reaction function. We can make these changeable with the ipywidget package\n",
    "    \n",
    "    xj_range=np.arange(0,(100-ci)/b,0.5) #This is the values for which xi is between producing 0 and producing for the whole market.\n",
    "    i=0\n",
    "    xi_range=np.empty(len(xj_range))\n",
    "    \n",
    "    while i < len(xj_range):\n",
    "        xi_range[i]= reac_func(xj_range[i],ci,b,F)\n",
    "        i=i+1\n",
    "        \n",
    "    fig = plt.figure()\n",
    "    ax = fig.add_subplot(111)\n",
    "    ax.plot(xj_range, xi_range)\n",
    "    \n",
    "    upper_xj=(100-ci)/b\n",
    "    ax.set_xlim(0, upper_xj)\n",
    "    \n",
    "    upper_xi=0.5*(100-ci)\n",
    "    ax.set_ylim(0, upper_xi)\n",
    "    \n",
    "    plt.xlabel('xj')\n",
    "    plt.ylabel('xi')\n",
    "    plt.show()"
   ]
  },
  {
   "cell_type": "code",
   "execution_count": 35,
   "metadata": {},
   "outputs": [],
   "source": [
    "interact(draw_rf, ci=10, b=0.5);"
   ]
  },
  {
   "cell_type": "code",
   "execution_count": 38,
   "metadata": {},
   "outputs": [
    {
     "data": {
      "application/vnd.jupyter.widget-view+json": {
       "model_id": "5c9fdd46f40a438097734acd5fb27cc0",
       "version_major": 2,
       "version_minor": 0
      },
      "text/plain": [
       "interactive(children=(IntSlider(value=10, description='ci', max=30, min=-10), FloatSlider(value=0.5, descripti…"
      ]
     },
     "metadata": {},
     "output_type": "display_data"
    }
   ],
   "source": [
    "#interactive_plot=interact(draw_rf, ci=widgets.IntSlider(min=0,max=40,step=1,value=10), b=0.5, F=fixed(0));\n",
    "#interactive_plot=interact(draw_rf, ci=10, b=0.5);\n",
    "#interactive_plot = interactive(draw_rf, ci=10, b=0.5);\n",
    "#interactive_plot\n",
    "interact(draw_rf, ci=10, b=0.5);"
   ]
  },
  {
   "cell_type": "markdown",
   "metadata": {},
   "source": [
    "We can find the reaction function for the other firm j as well in a similar manner. Having obtained the reaction function for firm i and firm j, we can find the nash equilibrium as the solution to the two equations with two unknows:"
   ]
  },
  {
   "cell_type": "markdown",
   "metadata": {},
   "source": [
    "\\\\[ x_i^*=\\frac{1}{2}\\left[ 100-bx_j-c_i\\right] \\\\] \\\\[ x_j^*=\\frac{1}{2}\\left[ 100-bx_i-c_j\\right] \\\\] which has an analytical solution that we know want to find using one of scipy's optimizers. "
   ]
  },
  {
   "cell_type": "markdown",
   "metadata": {},
   "source": [
    "The general idea is that we want to solve: \\\\[ \\begin{bmatrix}\n",
    "    x_i^*  \\\\\n",
    "    x_j^*\n",
    "\\end{bmatrix} = \\begin{bmatrix}\n",
    "    r(x_j^*)  \\\\\n",
    "    r(x_i^*)\n",
    "\\end{bmatrix} \\leftrightarrow \\begin{bmatrix}\n",
    "    x_i^*-r(x_j^*)  \\\\\n",
    "    x_j^*-r(x_i^*)\n",
    "\\end{bmatrix} = \\begin{bmatrix}\n",
    "    0  \\\\\n",
    "    0\n",
    "\\end{bmatrix}\\\\]\n",
    "Where $r(x_j),r(x_i)$ is the reaction function of $x_i, x_j$ respectively. We are going to use fsolve to solve this system as it essentially finds the root of the about above."
   ]
  },
  {
   "cell_type": "code",
   "execution_count": 60,
   "metadata": {},
   "outputs": [],
   "source": [
    "def vec_reac(x,ci=10,cj=10,b=1,F=0):\n",
    "    return array(x)-array([reac_func(x[1],ci,b,F),reac_func(x[0],cj,b,F)])"
   ]
  },
  {
   "cell_type": "markdown",
   "metadata": {},
   "source": [
    "We now need to come with an initial guess and using scipys fsolve which solves the equation \\\\[ \\begin{bmatrix}\n",
    "    x_i^*-r(x_j^*)  \\\\\n",
    "    x_j^*-r(x_i^*)\n",
    "\\end{bmatrix} = \\begin{bmatrix}\n",
    "    0  \\\\\n",
    "    0\n",
    "\\end{bmatrix}\\\\]"
   ]
  },
  {
   "cell_type": "code",
   "execution_count": 61,
   "metadata": {},
   "outputs": [
    {
     "name": "stdout",
     "output_type": "stream",
     "text": [
      "[30. 30.]\n"
     ]
    }
   ],
   "source": [
    "VEC=[30,30]\n",
    "parameters=(10,10,1,0) #parameters are ci,cj,b,F\n",
    "nash_eq=optimize.fsolve(vec_reac, VEC, args = (parameters))\n",
    "print(nash_eq)"
   ]
  },
  {
   "cell_type": "code",
   "execution_count": null,
   "metadata": {},
   "outputs": [],
   "source": []
  },
  {
   "cell_type": "code",
   "execution_count": null,
   "metadata": {},
   "outputs": [],
   "source": []
  }
 ],
 "metadata": {
  "kernelspec": {
   "display_name": "Python 3",
   "language": "python",
   "name": "python3"
  },
  "language_info": {
   "codemirror_mode": {
    "name": "ipython",
    "version": 3
   },
   "file_extension": ".py",
   "mimetype": "text/x-python",
   "name": "python",
   "nbconvert_exporter": "python",
   "pygments_lexer": "ipython3",
   "version": "3.7.1"
  }
 },
 "nbformat": 4,
 "nbformat_minor": 2
}

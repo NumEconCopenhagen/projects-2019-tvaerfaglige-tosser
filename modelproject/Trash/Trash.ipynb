{
 "cells": [
  {
   "cell_type": "code",
   "execution_count": 1,
   "metadata": {},
   "outputs": [],
   "source": [
    "import numpy as np\n",
    "import pandas as pd\n",
    "import scipy as sp\n",
    "import matplotlib.pyplot as plt"
   ]
  },
  {
   "cell_type": "markdown",
   "metadata": {},
   "source": [
    "\\\\[ Y(A,L,g,n,s,\\delta,\\alpha,\\sigma) = [\\alpha K^{\\frac{\\sigma-1}{\\sigma}}+(1-\\alpha)(AL)^{\\frac{\\sigma-1}{\\sigma}}]^{\\frac{\\sigma}{\\sigma-1}}, \\quad 0<\\alpha<1, \\sigma>0 \\\\]\n",
    "\\\\[\\Rightarrow \\tilde{y}*=\\left[ \\frac{1}{1-\\alpha}-\\frac{\\alpha}{1-\\alpha}(\\frac{s}{n+g+\\delta})^{\\frac{\\sigma}{\\sigma-1}}\\right]^{-\\frac{\\sigma}{\\sigma-1}} \\\\]\n",
    "Med Cobb Douglas\n",
    "\\\\[ Y=AK^\\alpha L^{1-\\alpha}\\\\]\n",
    "We can show that \\\\[\\Rightarrow \\tilde{k}=[\\frac{s}{d+n+\\delta}]^{\\frac{1}{1-\\alpha}} \\quad \\text{og} \\quad  \\tilde{y}=[\\frac{s}{d+n+\\delta}]^{\\frac{\\alpha}{1-\\alpha}}\\\\]\n",
    "As the Solow growth model has a numerical solution it provides a great starting point to show different methods to numerical solutions as we can chenck the right result. Initially we thereby seek to show the above result numerically."
   ]
  },
  {
   "cell_type": "code",
   "execution_count": 2,
   "metadata": {},
   "outputs": [],
   "source": [
    "ces_params = {'A0': 1.0, 'L0': 1.0, 'g': 0.02, 'n': 0.03, 's': 0.15,\n",
    "              'delta': 0.05, 'alpha': 0.33}"
   ]
  },
  {
   "cell_type": "code",
   "execution_count": null,
   "metadata": {},
   "outputs": [],
   "source": []
  }
 ],
 "metadata": {
  "kernelspec": {
   "display_name": "Python 3",
   "language": "python",
   "name": "python3"
  },
  "language_info": {
   "codemirror_mode": {
    "name": "ipython",
    "version": 3
   },
   "file_extension": ".py",
   "mimetype": "text/x-python",
   "name": "python",
   "nbconvert_exporter": "python",
   "pygments_lexer": "ipython3",
   "version": "3.7.1"
  }
 },
 "nbformat": 4,
 "nbformat_minor": 2
}

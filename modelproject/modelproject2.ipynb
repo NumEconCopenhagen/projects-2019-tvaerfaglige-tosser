{
 "cells": [
  {
   "cell_type": "markdown",
   "metadata": {},
   "source": [
    "# The Cournot model and the possibility of collusion"
   ]
  },
  {
   "cell_type": "markdown",
   "metadata": {},
   "source": [
    "## The model"
   ]
  },
  {
   "cell_type": "code",
   "execution_count": 1,
   "metadata": {},
   "outputs": [],
   "source": [
    "from scipy import optimize,arange\n",
    "from numpy import array\n",
    "import matplotlib.pyplot as plt\n",
    "%matplotlib inline\n",
    "from ipywidgets import interactive, interact, interact_manual"
   ]
  },
  {
   "cell_type": "markdown",
   "metadata": {},
   "source": [
    "In this project we want to investigate the cournot equilibrium and in this regard investigate when collusion can be optained. As an extra feature we check this result for different degrees of elasticity of substitution between the goods (i.e when the firm's goods are seen as similar of different degrees)."
   ]
  },
  {
   "cell_type": "markdown",
   "metadata": {},
   "source": [
    "For simplicity we will in this project work with only two firms indicating a duopoly but the project can easily be extended to include more firms in the market.\n",
    "We start by defining a linear demand curve for good $x_i$ given as: \\\\[p(x_i,x_{j},b)=100-x_i-bx_j\\\\] where b indicates the degree of substitution between the goods (if b=1 we have perfect substitutes and if b<1 the goods are seen as different)."
   ]
  },
  {
   "cell_type": "markdown",
   "metadata": {},
   "source": [
    "Now having the demand, we need to specify the cost and we assume that the firms incurs fixed marginal costs and the cost function is given by: \\\\[c(x,f)=cx+F\\\\] where F is fixed costs. The profit for firm i is given by: \\\\[\\pi_i(x_i,x_{j},c,b)=p(x_i,x_{j},b) \\cdot x_i-c_i(x_i,F)\\\\] unless the firms incurs a negative profit, then it will not produce (we investige the production in the long run) which implies the following demand, cost functions and profit functions. "
   ]
  },
  {
   "cell_type": "code",
   "execution_count": 2,
   "metadata": {},
   "outputs": [],
   "source": [
    "def demand(xi,xj,b):\n",
    "    return 100-xi-b*xj\n",
    "\n",
    "def cost(x,c,F):\n",
    "    if x == 0:\n",
    "        cost = 0\n",
    "    else:\n",
    "        cost = c*x+F\n",
    "    return cost\n",
    "\n",
    "def profit(xi,xj,b,c,F):\n",
    "    return demand(xi,xj,b)*xi - cost(xi,c,F)"
   ]
  },
  {
   "cell_type": "markdown",
   "metadata": {},
   "source": [
    "## Reaction functions"
   ]
  },
  {
   "cell_type": "markdown",
   "metadata": {},
   "source": [
    "Unlike the Bertrand model where firms compete by setting prices, in the cournot model, the firms maximize profits by choosing the amount to be produced and the price are then determined by this quantity in the demand function. Each firm then maximize their profit function given the production of the other and $x_i^*,x_j^*$ indicate the nash equilibrium indicate the point where neither of the firms can do better by deviating from this point. This is given by: \\\\[x_i^*= \\underset{x_i} \\max \\, \\pi(x_i,x_j^*,c,b) \\\\] and $x_j$ is found in the same way for $x_i^*$"
   ]
  },
  {
   "cell_type": "markdown",
   "metadata": {},
   "source": [
    "This optimal output given the production of the other firm is called the reaction function and it is found using the first order derivative (as $\\pi_i$ is clearly concave wrt $x_i$):\n",
    "\\\\[ \\frac{\\partial \\pi (x_i,x_j^*)}{\\partial x_i} =0 \\\\]\n",
    "and then solving for $x_i$. The reaction function can be found analytically to be: \\\\[ x_i^*=\\frac{1}{2}\\left[ 100-bx_j-c_i\\right] \\\\]\n",
    "But can also be found by numerical optimization using the scipy optimizer. Initially we use the brute method which evaluates the profit function at each point of prespecified range. A natural choice of this range is 0 to 100 given the specified demand function. The pros for this method is that it is that it requires very little information and there is no need for any derivatives. The optimizer simply evaluates the function at different values and find the minimum value. Naturally the con of this approach is that it very inefficient and the number of derivation increase exponentially as the range/grid increases."
   ]
  },
  {
   "cell_type": "code",
   "execution_count": 3,
   "metadata": {},
   "outputs": [],
   "source": [
    "def BRi(xj,b,c,F):\n",
    "    xi = optimize.brute(lambda x: -profit(x,xj,b,c,F), ((0,1),),)  \n",
    "    return float(xi[0])"
   ]
  },
  {
   "cell_type": "markdown",
   "metadata": {},
   "source": [
    "We can now draw the reaction function for a given values of $c_i,b,F$ using the ipywi package. As pyplot take values and not functions as input we find the reaction function for a range of $x_j$."
   ]
  },
  {
   "cell_type": "code",
   "execution_count": 37,
   "metadata": {},
   "outputs": [],
   "source": [
    "def draw_rf(ci=10,b=1): #We need to input of ci and b and F to make draw the reaction function. We can make these changeable with the ipywidget package\n",
    "    \n",
    "    xj_range=np.arange(0,(100-ci)/b,0.5) #This is the values for which xi is between producing 0 and producing for the whole market.\n",
    "    i=0\n",
    "    xi_range=np.empty(len(xj_range))\n",
    "    \n",
    "    while i < len(xj_range):\n",
    "        xi_range[i]= BRi(xj_range[i],b,ci,0)\n",
    "        i=i+1\n",
    "        \n",
    "    fig = plt.figure()\n",
    "    ax = fig.add_subplot(111)\n",
    "    ax.plot(xj_range, xi_range)\n",
    "    \n",
    "    upper_xj=(100-ci)/b\n",
    "    ax.set_xlim(0, upper_xj)\n",
    "    \n",
    "    upper_xi=0.5*(100-ci)\n",
    "    ax.set_ylim(0, upper_xi)\n",
    "    \n",
    "    plt.xlabel('xj')\n",
    "    plt.ylabel('xi')\n",
    "    plt.show()"
   ]
  },
  {
   "cell_type": "code",
   "execution_count": 38,
   "metadata": {},
   "outputs": [
    {
     "data": {
      "application/vnd.jupyter.widget-view+json": {
       "model_id": "3c0415e010444a8b91491ec667d6573a",
       "version_major": 2,
       "version_minor": 0
      },
      "text/plain": [
       "interactive(children=(IntSlider(value=10, description='ci', max=50, step=5), FloatSlider(value=1.0, descriptio…"
      ]
     },
     "metadata": {},
     "output_type": "display_data"
    },
    {
     "data": {
      "text/plain": [
       "<function __main__.draw_rf(ci=10, b=1)>"
      ]
     },
     "execution_count": 38,
     "metadata": {},
     "output_type": "execute_result"
    }
   ],
   "source": [
    "interactive_plot = interact_manual(draw_rf, b=(0.1,1,0.1), ci=(0,50,5))\n",
    "interactive_plot.widget.children[0].description = 'cost per unit'\n",
    "interactive_plot.widget.children[1].description = 'substitution'\n",
    "interactive_plot.widget.children[2].description = 'Show graph'\n",
    "interactive_plot"
   ]
  },
  {
   "cell_type": "markdown",
   "metadata": {},
   "source": [
    "We can find the reaction function for the other firm j as well in a similar manner. Having obtained the reaction function for firm i and firm j, we can find the nash equilibrium as the solution to the two equations with two unknows:"
   ]
  },
  {
   "cell_type": "markdown",
   "metadata": {},
   "source": [
    "\\\\[ x_i^*=\\frac{1}{2}\\left[ 100-bx_j-c_i\\right] \\\\] \\\\[ x_j^*=\\frac{1}{2}\\left[ 100-bx_i-c_j\\right] \\\\] which has an analytical solution that we now want to find using one of scipy's optimizers. "
   ]
  },
  {
   "cell_type": "markdown",
   "metadata": {},
   "source": [
    "The general idea is that we want to solve: \\\\[ \\begin{bmatrix}\n",
    "    x_i^*  \\\\\n",
    "    x_j^*\n",
    "\\end{bmatrix} = \\begin{bmatrix}\n",
    "    r(x_j^*)  \\\\\n",
    "    r(x_i^*)\n",
    "\\end{bmatrix} \\leftrightarrow \\begin{bmatrix}\n",
    "    x_i^*-r(x_j^*)  \\\\\n",
    "    x_j^*-r(x_i^*)\n",
    "\\end{bmatrix} = \\begin{bmatrix}\n",
    "    0  \\\\\n",
    "    0\n",
    "\\end{bmatrix}\\\\]\n",
    "Where $r(x_j),r(x_i)$ is the reaction function of $x_i, x_j$ respectively. We are going to use fsolve to solve this system as it essentially finds the root of the above."
   ]
  },
  {
   "cell_type": "code",
   "execution_count": 6,
   "metadata": {},
   "outputs": [],
   "source": [
    "def vector_BRi(x,b,c,F):\n",
    "        first_eq = x[0] - BRi(x[1],b,c[0],F[0])\n",
    "        second_eq = x[1] - BRi(x[0],b,c[1],F[1])\n",
    "        return [first_eq, second_eq]"
   ]
  },
  {
   "cell_type": "markdown",
   "metadata": {},
   "source": [
    "We now need to come with an initial guess and using scipys fsolve which solves the equation \\\\[ \\begin{bmatrix}\n",
    "    x_i^*-r(x_j^*)  \\\\\n",
    "    x_j^*-r(x_i^*)\n",
    "\\end{bmatrix} = \\begin{bmatrix}\n",
    "    0  \\\\\n",
    "    0\n",
    "\\end{bmatrix}\\\\]"
   ]
  },
  {
   "cell_type": "code",
   "execution_count": 7,
   "metadata": {},
   "outputs": [
    {
     "name": "stdout",
     "output_type": "stream",
     "text": [
      "[31.66669825 31.66669825]\n"
     ]
    }
   ],
   "source": [
    "#PARAMETERS - CHANGE HERE!\n",
    "c1 = 5\n",
    "c2 = 5\n",
    "F1 = 2\n",
    "F2 = 2\n",
    "b = 1\n",
    "\n",
    "# COMPACT PARAMETERS\n",
    "c = [c1, c2]\n",
    "F = [F1, F2]\n",
    "\n",
    "nash_eq=optimize.fsolve(vector_BRi, [1,1], args = (b,c,F))\n",
    "print(nash_eq)"
   ]
  },
  {
   "cell_type": "markdown",
   "metadata": {},
   "source": [
    "!!! Ovenstående del kunne man evt. visualisere på en pæn måde, hvis i vil lave det? !!!"
   ]
  },
  {
   "cell_type": "markdown",
   "metadata": {},
   "source": [
    "The cournot equilibrium is based on the assumption that the firms produce in order to maximize their profit in the given production period given the action of the other firm. But what if the firms meet each other several times and have the choice of producing continously period after period. Can the firms do better for themselves by coluding? "
   ]
  },
  {
   "cell_type": "markdown",
   "metadata": {},
   "source": [
    "Some very bright microeconomics have realized that it would be optimal for firm i to collude/collaborate if \\\\[  \\pi(x_i^c,x_j^c)\\frac{1}{1-\\delta}\\geq \\underset{x_i} \\max (x_i,x_j^c)+ \\frac{\\delta}{1-\\delta} \\pi(x_i^*,x_j^*)\\\\]\n",
    "Where $x_i^c$ is the collution amount produced by firm i and $\\delta$ is the discount rate between periods. $x_i^*$ is still the cournot nash equilibrium. For simplicity we will assume in the following that the firms have the same coststructure and $c_i=c_j$ which will result in a symmetric solution."
   ]
  },
  {
   "cell_type": "code",
   "execution_count": 14,
   "metadata": {},
   "outputs": [
    {
     "data": {
      "text/plain": [
       "<matplotlib.legend.Legend at 0x1016ecdf60>"
      ]
     },
     "execution_count": 14,
     "metadata": {},
     "output_type": "execute_result"
    },
    {
     "data": {
      "image/png": "[encoded data removed]",
      "text/plain": [
       "<Figure size 432x288 with 1 Axes>"
      ]
     },
     "metadata": {
      "needs_background": "light"
     },
     "output_type": "display_data"
    }
   ],
   "source": [
    "def collusion_profits(x,b,c,F,delta): # we only do this for the symmetric case: c1 = c2 = c\n",
    "    profits = profit(x,x,b,c[0],F[0])\n",
    "    nash_eq = optimize.fsolve(vector_BRi, [1,1], args = (b,c,F))\n",
    "    if profits >= (1-delta)*profit(BRi(x,b,c[0],F[0]),x,b,c[0],F[0])+delta*profit(nash_eq[0],nash_eq[1],b,c[0],F[0]):\n",
    "        industry_profits = profits # profits can be sustained as collusion profits\n",
    "    else:\n",
    "        industry_profits = 0 # profits cannot be sustained as collusion profits\n",
    "    return industry_profits\n",
    "\n",
    "#PARAMETERS - CHANGE HERE!\n",
    "c1 = 5\n",
    "c2 = c1\n",
    "F1 = 2\n",
    "F2 = F1\n",
    "b = 1\n",
    "\n",
    "# COMPACT PARAMETERS\n",
    "c = [c1, c2]\n",
    "F = [F1, F2]\n",
    "\n",
    "range_x = arange(25,32,1) #Start, end and step-size in graph\n",
    "delta1 = 0.8\n",
    "delta2 = 0.2\n",
    "range_profits = [collusion_profits(x,b,c,F,delta1) for x in range_x]\n",
    "range_profits2 = [collusion_profits(x,b,c,F,delta2) for x in range_x]\n",
    "\n",
    "#print(range_x)         #Bare checks. Skal slettes.\n",
    "#print(range_profits)   #Bare checks. Skal slettes.\n",
    "#print(range_profits2)  #Bare checks. Skal slettes.\n",
    "#print(non_collute)     #Bare checks. Skal slettes.\n",
    "\n",
    "plt.clf()\n",
    "plt.plot(range_x, range_profits,'-', color = 'r', linewidth = 2, label=\"Collute, delta=0.2\")\n",
    "plt.plot(range_x, range_profits2,'-', color = 'b', linewidth = 2, label=\"Collute, delta=0.8\")\n",
    "plt.title(\"Collusion breakdown\",fontsize = 15)\n",
    "plt.xlabel(\"output\",fontsize = 15)\n",
    "plt.ylabel(\"profits\",fontsize = 15,rotation = 90)\n",
    "plt.legend()"
   ]
  },
  {
   "cell_type": "markdown",
   "metadata": {},
   "source": [
    "When there is no chance of collusion we set the result to zero in order to illustrate that the result will be the nash equilibrium and not the collusion output. This will be clear in the following code:"
   ]
  }
 ],
 "metadata": {
  "kernelspec": {
   "display_name": "Python 3",
   "language": "python",
   "name": "python3"
  },
  "language_info": {
   "codemirror_mode": {
    "name": "ipython",
    "version": 3
   },
   "file_extension": ".py",
   "mimetype": "text/x-python",
   "name": "python",
   "nbconvert_exporter": "python",
   "pygments_lexer": "ipython3",
   "version": "3.7.1"
  }
 },
 "nbformat": 4,
 "nbformat_minor": 2
}
